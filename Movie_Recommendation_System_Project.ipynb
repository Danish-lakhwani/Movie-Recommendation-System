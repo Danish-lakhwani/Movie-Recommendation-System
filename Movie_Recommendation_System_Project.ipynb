{
  "cells": [
    {
      "cell_type": "code",
      "execution_count": null,
      "id": "72a544bf",
      "metadata": {
        "id": "72a544bf"
      },
      "outputs": [],
      "source": [
        "import pandas as pd\n",
        "import numpy as np"
      ]
    },
    {
      "cell_type": "code",
      "execution_count": null,
      "id": "b2f33a2c",
      "metadata": {
        "id": "b2f33a2c"
      },
      "outputs": [],
      "source": [
        "movies = pd.read_csv('tmdb_5000_movies.csv')\n",
        "credits = pd.read_csv('tmdb_5000_credits.csv')"
      ]
    },
    {
      "cell_type": "code",
      "execution_count": null,
      "id": "90781220",
      "metadata": {
        "id": "90781220",
        "outputId": "0376eafe-24cc-4567-e181-56b9bfebaede",
        "scrolled": true
      },
      "outputs": [
        {
          "data": {
            "text/plain": [
              "(4809, 23)"
            ]
          },
          "execution_count": 3,
          "metadata": {},
          "output_type": "execute_result"
        }
      ],
      "source": [
        "movies = movies.merge(credits, on='title', how='inner')\n",
        "movies.shape"
      ]
    },
    {
      "cell_type": "code",
      "execution_count": null,
      "id": "7b64376e",
      "metadata": {
        "id": "7b64376e",
        "scrolled": true
      },
      "outputs": [],
      "source": [
        "movies = movies[['movie_id', 'title', 'keywords', 'overview', 'genres', 'cast', 'crew']]"
      ]
    },
    {
      "cell_type": "code",
      "execution_count": null,
      "id": "be91dab6",
      "metadata": {
        "id": "be91dab6",
        "outputId": "c6341d63-12b6-4cfb-fa6a-47229fafe09f",
        "scrolled": true
      },
      "outputs": [
        {
          "data": {
            "text/plain": [
              "'[{\"id\": 28, \"name\": \"Action\"}, {\"id\": 12, \"name\": \"Adventure\"}, {\"id\": 14, \"name\": \"Fantasy\"}, {\"id\": 878, \"name\": \"Science Fiction\"}]'"
            ]
          },
          "execution_count": 5,
          "metadata": {},
          "output_type": "execute_result"
        }
      ],
      "source": [
        "movies['genres'][0]"
      ]
    },
    {
      "cell_type": "code",
      "execution_count": null,
      "id": "a3ea1903-a5aa-4a22-a2b9-c817f42bcda2",
      "metadata": {
        "id": "a3ea1903-a5aa-4a22-a2b9-c817f42bcda2",
        "outputId": "6a0e0bb4-ad52-4188-9294-a95e60aec814"
      },
      "outputs": [
        {
          "data": {
            "text/html": [
              "<div>\n",
              "<style scoped>\n",
              "    .dataframe tbody tr th:only-of-type {\n",
              "        vertical-align: middle;\n",
              "    }\n",
              "\n",
              "    .dataframe tbody tr th {\n",
              "        vertical-align: top;\n",
              "    }\n",
              "\n",
              "    .dataframe thead th {\n",
              "        text-align: right;\n",
              "    }\n",
              "</style>\n",
              "<table border=\"1\" class=\"dataframe\">\n",
              "  <thead>\n",
              "    <tr style=\"text-align: right;\">\n",
              "      <th></th>\n",
              "      <th>movie_id</th>\n",
              "      <th>title</th>\n",
              "      <th>keywords</th>\n",
              "      <th>overview</th>\n",
              "      <th>genres</th>\n",
              "      <th>cast</th>\n",
              "      <th>crew</th>\n",
              "    </tr>\n",
              "  </thead>\n",
              "  <tbody>\n",
              "    <tr>\n",
              "      <th>0</th>\n",
              "      <td>19995</td>\n",
              "      <td>Avatar</td>\n",
              "      <td>[{\"id\": 1463, \"name\": \"culture clash\"}, {\"id\":...</td>\n",
              "      <td>In the 22nd century, a paraplegic Marine is di...</td>\n",
              "      <td>[{\"id\": 28, \"name\": \"Action\"}, {\"id\": 12, \"nam...</td>\n",
              "      <td>[{\"cast_id\": 242, \"character\": \"Jake Sully\", \"...</td>\n",
              "      <td>[{\"credit_id\": \"52fe48009251416c750aca23\", \"de...</td>\n",
              "    </tr>\n",
              "    <tr>\n",
              "      <th>1</th>\n",
              "      <td>285</td>\n",
              "      <td>Pirates of the Caribbean: At World's End</td>\n",
              "      <td>[{\"id\": 270, \"name\": \"ocean\"}, {\"id\": 726, \"na...</td>\n",
              "      <td>Captain Barbossa, long believed to be dead, ha...</td>\n",
              "      <td>[{\"id\": 12, \"name\": \"Adventure\"}, {\"id\": 14, \"...</td>\n",
              "      <td>[{\"cast_id\": 4, \"character\": \"Captain Jack Spa...</td>\n",
              "      <td>[{\"credit_id\": \"52fe4232c3a36847f800b579\", \"de...</td>\n",
              "    </tr>\n",
              "    <tr>\n",
              "      <th>2</th>\n",
              "      <td>206647</td>\n",
              "      <td>Spectre</td>\n",
              "      <td>[{\"id\": 470, \"name\": \"spy\"}, {\"id\": 818, \"name...</td>\n",
              "      <td>A cryptic message from Bond’s past sends him o...</td>\n",
              "      <td>[{\"id\": 28, \"name\": \"Action\"}, {\"id\": 12, \"nam...</td>\n",
              "      <td>[{\"cast_id\": 1, \"character\": \"James Bond\", \"cr...</td>\n",
              "      <td>[{\"credit_id\": \"54805967c3a36829b5002c41\", \"de...</td>\n",
              "    </tr>\n",
              "    <tr>\n",
              "      <th>3</th>\n",
              "      <td>49026</td>\n",
              "      <td>The Dark Knight Rises</td>\n",
              "      <td>[{\"id\": 849, \"name\": \"dc comics\"}, {\"id\": 853,...</td>\n",
              "      <td>Following the death of District Attorney Harve...</td>\n",
              "      <td>[{\"id\": 28, \"name\": \"Action\"}, {\"id\": 80, \"nam...</td>\n",
              "      <td>[{\"cast_id\": 2, \"character\": \"Bruce Wayne / Ba...</td>\n",
              "      <td>[{\"credit_id\": \"52fe4781c3a36847f81398c3\", \"de...</td>\n",
              "    </tr>\n",
              "    <tr>\n",
              "      <th>4</th>\n",
              "      <td>49529</td>\n",
              "      <td>John Carter</td>\n",
              "      <td>[{\"id\": 818, \"name\": \"based on novel\"}, {\"id\":...</td>\n",
              "      <td>John Carter is a war-weary, former military ca...</td>\n",
              "      <td>[{\"id\": 28, \"name\": \"Action\"}, {\"id\": 12, \"nam...</td>\n",
              "      <td>[{\"cast_id\": 5, \"character\": \"John Carter\", \"c...</td>\n",
              "      <td>[{\"credit_id\": \"52fe479ac3a36847f813eaa3\", \"de...</td>\n",
              "    </tr>\n",
              "  </tbody>\n",
              "</table>\n",
              "</div>"
            ],
            "text/plain": [
              "   movie_id                                     title  \\\n",
              "0     19995                                    Avatar   \n",
              "1       285  Pirates of the Caribbean: At World's End   \n",
              "2    206647                                   Spectre   \n",
              "3     49026                     The Dark Knight Rises   \n",
              "4     49529                               John Carter   \n",
              "\n",
              "                                            keywords  \\\n",
              "0  [{\"id\": 1463, \"name\": \"culture clash\"}, {\"id\":...   \n",
              "1  [{\"id\": 270, \"name\": \"ocean\"}, {\"id\": 726, \"na...   \n",
              "2  [{\"id\": 470, \"name\": \"spy\"}, {\"id\": 818, \"name...   \n",
              "3  [{\"id\": 849, \"name\": \"dc comics\"}, {\"id\": 853,...   \n",
              "4  [{\"id\": 818, \"name\": \"based on novel\"}, {\"id\":...   \n",
              "\n",
              "                                            overview  \\\n",
              "0  In the 22nd century, a paraplegic Marine is di...   \n",
              "1  Captain Barbossa, long believed to be dead, ha...   \n",
              "2  A cryptic message from Bond’s past sends him o...   \n",
              "3  Following the death of District Attorney Harve...   \n",
              "4  John Carter is a war-weary, former military ca...   \n",
              "\n",
              "                                              genres  \\\n",
              "0  [{\"id\": 28, \"name\": \"Action\"}, {\"id\": 12, \"nam...   \n",
              "1  [{\"id\": 12, \"name\": \"Adventure\"}, {\"id\": 14, \"...   \n",
              "2  [{\"id\": 28, \"name\": \"Action\"}, {\"id\": 12, \"nam...   \n",
              "3  [{\"id\": 28, \"name\": \"Action\"}, {\"id\": 80, \"nam...   \n",
              "4  [{\"id\": 28, \"name\": \"Action\"}, {\"id\": 12, \"nam...   \n",
              "\n",
              "                                                cast  \\\n",
              "0  [{\"cast_id\": 242, \"character\": \"Jake Sully\", \"...   \n",
              "1  [{\"cast_id\": 4, \"character\": \"Captain Jack Spa...   \n",
              "2  [{\"cast_id\": 1, \"character\": \"James Bond\", \"cr...   \n",
              "3  [{\"cast_id\": 2, \"character\": \"Bruce Wayne / Ba...   \n",
              "4  [{\"cast_id\": 5, \"character\": \"John Carter\", \"c...   \n",
              "\n",
              "                                                crew  \n",
              "0  [{\"credit_id\": \"52fe48009251416c750aca23\", \"de...  \n",
              "1  [{\"credit_id\": \"52fe4232c3a36847f800b579\", \"de...  \n",
              "2  [{\"credit_id\": \"54805967c3a36829b5002c41\", \"de...  \n",
              "3  [{\"credit_id\": \"52fe4781c3a36847f81398c3\", \"de...  \n",
              "4  [{\"credit_id\": \"52fe479ac3a36847f813eaa3\", \"de...  "
            ]
          },
          "execution_count": 6,
          "metadata": {},
          "output_type": "execute_result"
        }
      ],
      "source": [
        "movies.head()"
      ]
    },
    {
      "cell_type": "code",
      "execution_count": null,
      "id": "c3fcdaa2-bf7e-47dd-9a6f-e23d5575a3da",
      "metadata": {
        "id": "c3fcdaa2-bf7e-47dd-9a6f-e23d5575a3da",
        "outputId": "2e4f4b1f-6113-4259-fea3-838e61670463"
      },
      "outputs": [
        {
          "data": {
            "text/html": [
              "<div>\n",
              "<style scoped>\n",
              "    .dataframe tbody tr th:only-of-type {\n",
              "        vertical-align: middle;\n",
              "    }\n",
              "\n",
              "    .dataframe tbody tr th {\n",
              "        vertical-align: top;\n",
              "    }\n",
              "\n",
              "    .dataframe thead th {\n",
              "        text-align: right;\n",
              "    }\n",
              "</style>\n",
              "<table border=\"1\" class=\"dataframe\">\n",
              "  <thead>\n",
              "    <tr style=\"text-align: right;\">\n",
              "      <th></th>\n",
              "      <th>movie_id</th>\n",
              "      <th>title</th>\n",
              "      <th>keywords</th>\n",
              "      <th>overview</th>\n",
              "      <th>genres</th>\n",
              "      <th>cast</th>\n",
              "      <th>crew</th>\n",
              "    </tr>\n",
              "  </thead>\n",
              "  <tbody>\n",
              "    <tr>\n",
              "      <th>4804</th>\n",
              "      <td>9367</td>\n",
              "      <td>El Mariachi</td>\n",
              "      <td>[{\"id\": 5616, \"name\": \"united states\\u2013mexi...</td>\n",
              "      <td>El Mariachi just wants to play his guitar and ...</td>\n",
              "      <td>[{\"id\": 28, \"name\": \"Action\"}, {\"id\": 80, \"nam...</td>\n",
              "      <td>[{\"cast_id\": 1, \"character\": \"El Mariachi\", \"c...</td>\n",
              "      <td>[{\"credit_id\": \"52fe44eec3a36847f80b280b\", \"de...</td>\n",
              "    </tr>\n",
              "    <tr>\n",
              "      <th>4805</th>\n",
              "      <td>72766</td>\n",
              "      <td>Newlyweds</td>\n",
              "      <td>[]</td>\n",
              "      <td>A newlywed couple's honeymoon is upended by th...</td>\n",
              "      <td>[{\"id\": 35, \"name\": \"Comedy\"}, {\"id\": 10749, \"...</td>\n",
              "      <td>[{\"cast_id\": 1, \"character\": \"Buzzy\", \"credit_...</td>\n",
              "      <td>[{\"credit_id\": \"52fe487dc3a368484e0fb013\", \"de...</td>\n",
              "    </tr>\n",
              "    <tr>\n",
              "      <th>4806</th>\n",
              "      <td>231617</td>\n",
              "      <td>Signed, Sealed, Delivered</td>\n",
              "      <td>[{\"id\": 248, \"name\": \"date\"}, {\"id\": 699, \"nam...</td>\n",
              "      <td>\"Signed, Sealed, Delivered\" introduces a dedic...</td>\n",
              "      <td>[{\"id\": 35, \"name\": \"Comedy\"}, {\"id\": 18, \"nam...</td>\n",
              "      <td>[{\"cast_id\": 8, \"character\": \"Oliver O\\u2019To...</td>\n",
              "      <td>[{\"credit_id\": \"52fe4df3c3a36847f8275ecf\", \"de...</td>\n",
              "    </tr>\n",
              "    <tr>\n",
              "      <th>4807</th>\n",
              "      <td>126186</td>\n",
              "      <td>Shanghai Calling</td>\n",
              "      <td>[]</td>\n",
              "      <td>When ambitious New York attorney Sam is sent t...</td>\n",
              "      <td>[]</td>\n",
              "      <td>[{\"cast_id\": 3, \"character\": \"Sam\", \"credit_id...</td>\n",
              "      <td>[{\"credit_id\": \"52fe4ad9c3a368484e16a36b\", \"de...</td>\n",
              "    </tr>\n",
              "    <tr>\n",
              "      <th>4808</th>\n",
              "      <td>25975</td>\n",
              "      <td>My Date with Drew</td>\n",
              "      <td>[{\"id\": 1523, \"name\": \"obsession\"}, {\"id\": 224...</td>\n",
              "      <td>Ever since the second grade when he first saw ...</td>\n",
              "      <td>[{\"id\": 99, \"name\": \"Documentary\"}]</td>\n",
              "      <td>[{\"cast_id\": 3, \"character\": \"Herself\", \"credi...</td>\n",
              "      <td>[{\"credit_id\": \"58ce021b9251415a390165d9\", \"de...</td>\n",
              "    </tr>\n",
              "  </tbody>\n",
              "</table>\n",
              "</div>"
            ],
            "text/plain": [
              "      movie_id                      title  \\\n",
              "4804      9367                El Mariachi   \n",
              "4805     72766                  Newlyweds   \n",
              "4806    231617  Signed, Sealed, Delivered   \n",
              "4807    126186           Shanghai Calling   \n",
              "4808     25975          My Date with Drew   \n",
              "\n",
              "                                               keywords  \\\n",
              "4804  [{\"id\": 5616, \"name\": \"united states\\u2013mexi...   \n",
              "4805                                                 []   \n",
              "4806  [{\"id\": 248, \"name\": \"date\"}, {\"id\": 699, \"nam...   \n",
              "4807                                                 []   \n",
              "4808  [{\"id\": 1523, \"name\": \"obsession\"}, {\"id\": 224...   \n",
              "\n",
              "                                               overview  \\\n",
              "4804  El Mariachi just wants to play his guitar and ...   \n",
              "4805  A newlywed couple's honeymoon is upended by th...   \n",
              "4806  \"Signed, Sealed, Delivered\" introduces a dedic...   \n",
              "4807  When ambitious New York attorney Sam is sent t...   \n",
              "4808  Ever since the second grade when he first saw ...   \n",
              "\n",
              "                                                 genres  \\\n",
              "4804  [{\"id\": 28, \"name\": \"Action\"}, {\"id\": 80, \"nam...   \n",
              "4805  [{\"id\": 35, \"name\": \"Comedy\"}, {\"id\": 10749, \"...   \n",
              "4806  [{\"id\": 35, \"name\": \"Comedy\"}, {\"id\": 18, \"nam...   \n",
              "4807                                                 []   \n",
              "4808                [{\"id\": 99, \"name\": \"Documentary\"}]   \n",
              "\n",
              "                                                   cast  \\\n",
              "4804  [{\"cast_id\": 1, \"character\": \"El Mariachi\", \"c...   \n",
              "4805  [{\"cast_id\": 1, \"character\": \"Buzzy\", \"credit_...   \n",
              "4806  [{\"cast_id\": 8, \"character\": \"Oliver O\\u2019To...   \n",
              "4807  [{\"cast_id\": 3, \"character\": \"Sam\", \"credit_id...   \n",
              "4808  [{\"cast_id\": 3, \"character\": \"Herself\", \"credi...   \n",
              "\n",
              "                                                   crew  \n",
              "4804  [{\"credit_id\": \"52fe44eec3a36847f80b280b\", \"de...  \n",
              "4805  [{\"credit_id\": \"52fe487dc3a368484e0fb013\", \"de...  \n",
              "4806  [{\"credit_id\": \"52fe4df3c3a36847f8275ecf\", \"de...  \n",
              "4807  [{\"credit_id\": \"52fe4ad9c3a368484e16a36b\", \"de...  \n",
              "4808  [{\"credit_id\": \"58ce021b9251415a390165d9\", \"de...  "
            ]
          },
          "execution_count": 7,
          "metadata": {},
          "output_type": "execute_result"
        }
      ],
      "source": [
        "movies.tail()"
      ]
    },
    {
      "cell_type": "code",
      "execution_count": null,
      "id": "4d1567d4",
      "metadata": {
        "id": "4d1567d4"
      },
      "outputs": [],
      "source": [
        "import ast\n",
        "\n",
        "def getgenres(object):\n",
        "    L = []\n",
        "    for i in ast.literal_eval(object):\n",
        "        L.append(i['name'])\n",
        "    return L"
      ]
    },
    {
      "cell_type": "code",
      "execution_count": null,
      "id": "84140fc6-01ca-4d54-a832-5d4008851129",
      "metadata": {
        "id": "84140fc6-01ca-4d54-a832-5d4008851129",
        "outputId": "624ee4dd-0955-415d-b3a6-a31184bc322e"
      },
      "outputs": [
        {
          "data": {
            "text/html": [
              "<div>\n",
              "<style scoped>\n",
              "    .dataframe tbody tr th:only-of-type {\n",
              "        vertical-align: middle;\n",
              "    }\n",
              "\n",
              "    .dataframe tbody tr th {\n",
              "        vertical-align: top;\n",
              "    }\n",
              "\n",
              "    .dataframe thead th {\n",
              "        text-align: right;\n",
              "    }\n",
              "</style>\n",
              "<table border=\"1\" class=\"dataframe\">\n",
              "  <thead>\n",
              "    <tr style=\"text-align: right;\">\n",
              "      <th></th>\n",
              "      <th>movie_id</th>\n",
              "    </tr>\n",
              "  </thead>\n",
              "  <tbody>\n",
              "    <tr>\n",
              "      <th>count</th>\n",
              "      <td>4809.000000</td>\n",
              "    </tr>\n",
              "    <tr>\n",
              "      <th>mean</th>\n",
              "      <td>57120.571429</td>\n",
              "    </tr>\n",
              "    <tr>\n",
              "      <th>std</th>\n",
              "      <td>88653.369849</td>\n",
              "    </tr>\n",
              "    <tr>\n",
              "      <th>min</th>\n",
              "      <td>5.000000</td>\n",
              "    </tr>\n",
              "    <tr>\n",
              "      <th>25%</th>\n",
              "      <td>9012.000000</td>\n",
              "    </tr>\n",
              "    <tr>\n",
              "      <th>50%</th>\n",
              "      <td>14624.000000</td>\n",
              "    </tr>\n",
              "    <tr>\n",
              "      <th>75%</th>\n",
              "      <td>58595.000000</td>\n",
              "    </tr>\n",
              "    <tr>\n",
              "      <th>max</th>\n",
              "      <td>459488.000000</td>\n",
              "    </tr>\n",
              "  </tbody>\n",
              "</table>\n",
              "</div>"
            ],
            "text/plain": [
              "            movie_id\n",
              "count    4809.000000\n",
              "mean    57120.571429\n",
              "std     88653.369849\n",
              "min         5.000000\n",
              "25%      9012.000000\n",
              "50%     14624.000000\n",
              "75%     58595.000000\n",
              "max    459488.000000"
            ]
          },
          "execution_count": 9,
          "metadata": {},
          "output_type": "execute_result"
        }
      ],
      "source": [
        "movies.describe()\n"
      ]
    },
    {
      "cell_type": "code",
      "execution_count": null,
      "id": "f9d06eee-ba20-44b7-989e-51e0c4f9c56b",
      "metadata": {
        "id": "f9d06eee-ba20-44b7-989e-51e0c4f9c56b",
        "outputId": "81806f45-9424-4f1a-de44-9d3326741471"
      },
      "outputs": [
        {
          "data": {
            "text/plain": [
              "(4809, 7)"
            ]
          },
          "execution_count": 10,
          "metadata": {},
          "output_type": "execute_result"
        }
      ],
      "source": [
        "movies.shape"
      ]
    },
    {
      "cell_type": "code",
      "execution_count": null,
      "id": "4fd68ccf",
      "metadata": {
        "id": "4fd68ccf"
      },
      "outputs": [],
      "source": [
        "movies['genres'] = movies['genres'].apply(getgenres)"
      ]
    },
    {
      "cell_type": "code",
      "execution_count": null,
      "id": "43b0b750",
      "metadata": {
        "id": "43b0b750",
        "outputId": "484a0883-2bb8-4936-919d-ca62b0a1c524"
      },
      "outputs": [
        {
          "data": {
            "text/plain": [
              "['Action', 'Adventure', 'Fantasy', 'Science Fiction']"
            ]
          },
          "execution_count": 12,
          "metadata": {},
          "output_type": "execute_result"
        }
      ],
      "source": [
        "movies['genres'][0]"
      ]
    },
    {
      "cell_type": "code",
      "execution_count": null,
      "id": "29e58bc0",
      "metadata": {
        "id": "29e58bc0"
      },
      "outputs": [],
      "source": [
        "def getkeywords(object):\n",
        "    L = []\n",
        "    for i in ast.literal_eval(object):\n",
        "        L.append(i['name'])\n",
        "    return L"
      ]
    },
    {
      "cell_type": "code",
      "execution_count": null,
      "id": "e6731577",
      "metadata": {
        "id": "e6731577"
      },
      "outputs": [],
      "source": [
        "movies['keywords'] = movies['keywords'].apply(getkeywords)"
      ]
    },
    {
      "cell_type": "code",
      "execution_count": null,
      "id": "a0bc1c46",
      "metadata": {
        "id": "a0bc1c46",
        "outputId": "1016b6de-186e-4552-b618-4a2afd7b898b"
      },
      "outputs": [
        {
          "data": {
            "text/plain": [
              "['culture clash',\n",
              " 'future',\n",
              " 'space war',\n",
              " 'space colony',\n",
              " 'society',\n",
              " 'space travel',\n",
              " 'futuristic',\n",
              " 'romance',\n",
              " 'space',\n",
              " 'alien',\n",
              " 'tribe',\n",
              " 'alien planet',\n",
              " 'cgi',\n",
              " 'marine',\n",
              " 'soldier',\n",
              " 'battle',\n",
              " 'love affair',\n",
              " 'anti war',\n",
              " 'power relations',\n",
              " 'mind and soul',\n",
              " '3d']"
            ]
          },
          "execution_count": 15,
          "metadata": {},
          "output_type": "execute_result"
        }
      ],
      "source": [
        "movies['keywords'][0]"
      ]
    },
    {
      "cell_type": "code",
      "execution_count": null,
      "id": "40a33d04",
      "metadata": {
        "id": "40a33d04"
      },
      "outputs": [],
      "source": [
        "def getcast(object):\n",
        "    L = []\n",
        "    counter = 0\n",
        "    for i in ast.literal_eval(object):\n",
        "        if counter == 3:\n",
        "            break\n",
        "        L.append(i['name'])\n",
        "        counter += 1\n",
        "    return L"
      ]
    },
    {
      "cell_type": "code",
      "execution_count": null,
      "id": "eabc5434",
      "metadata": {
        "id": "eabc5434"
      },
      "outputs": [],
      "source": [
        "movies['cast'] = movies['cast'].apply(getcast)"
      ]
    },
    {
      "cell_type": "code",
      "execution_count": null,
      "id": "7c03a3b2",
      "metadata": {
        "id": "7c03a3b2",
        "outputId": "14abd1ea-2a5d-4237-d6b1-a0452c6e71d6"
      },
      "outputs": [
        {
          "data": {
            "text/plain": [
              "['Sam Worthington', 'Zoe Saldana', 'Sigourney Weaver']"
            ]
          },
          "execution_count": 18,
          "metadata": {},
          "output_type": "execute_result"
        }
      ],
      "source": [
        "movies['cast'][0]"
      ]
    },
    {
      "cell_type": "code",
      "execution_count": null,
      "id": "8a433f42",
      "metadata": {
        "id": "8a433f42"
      },
      "outputs": [],
      "source": [
        "def getdirector(object):\n",
        "    L = []\n",
        "    for i in ast.literal_eval(object):\n",
        "        if i['job'] == 'Director':\n",
        "            L.append(i['name'])\n",
        "            break\n",
        "    return L"
      ]
    },
    {
      "cell_type": "code",
      "execution_count": null,
      "id": "dc748a2b",
      "metadata": {
        "id": "dc748a2b"
      },
      "outputs": [],
      "source": [
        "movies['crew'] = movies['crew'].apply(getdirector)"
      ]
    },
    {
      "cell_type": "code",
      "execution_count": null,
      "id": "7ef686c0",
      "metadata": {
        "id": "7ef686c0",
        "outputId": "4538c4a9-44db-4a1f-89e1-9e541ea01c37"
      },
      "outputs": [
        {
          "data": {
            "text/plain": [
              "['James Cameron']"
            ]
          },
          "execution_count": 21,
          "metadata": {},
          "output_type": "execute_result"
        }
      ],
      "source": [
        "movies['crew'][0]"
      ]
    },
    {
      "cell_type": "code",
      "execution_count": null,
      "id": "f71bd827",
      "metadata": {
        "id": "f71bd827"
      },
      "outputs": [],
      "source": [
        "movies['overview'] = movies['overview'].apply(lambda x : str(x).split())"
      ]
    },
    {
      "cell_type": "code",
      "execution_count": null,
      "id": "450bf7a9",
      "metadata": {
        "id": "450bf7a9",
        "outputId": "ac816f89-efd2-4c63-baf2-668a820040dc"
      },
      "outputs": [
        {
          "data": {
            "text/plain": [
              "['In',\n",
              " 'the',\n",
              " '22nd',\n",
              " 'century,',\n",
              " 'a',\n",
              " 'paraplegic',\n",
              " 'Marine',\n",
              " 'is',\n",
              " 'dispatched',\n",
              " 'to',\n",
              " 'the',\n",
              " 'moon',\n",
              " 'Pandora',\n",
              " 'on',\n",
              " 'a',\n",
              " 'unique',\n",
              " 'mission,',\n",
              " 'but',\n",
              " 'becomes',\n",
              " 'torn',\n",
              " 'between',\n",
              " 'following',\n",
              " 'orders',\n",
              " 'and',\n",
              " 'protecting',\n",
              " 'an',\n",
              " 'alien',\n",
              " 'civilization.']"
            ]
          },
          "execution_count": 23,
          "metadata": {},
          "output_type": "execute_result"
        }
      ],
      "source": [
        "movies['overview'][0]"
      ]
    },
    {
      "cell_type": "code",
      "execution_count": null,
      "id": "e6923d67",
      "metadata": {
        "id": "e6923d67"
      },
      "outputs": [],
      "source": [
        "movies['genres'] = movies['genres'].apply(lambda x : [i.replace(' ', '') for i in x])\n",
        "movies['keywords'] = movies['keywords'].apply(lambda x: [i.replace(' ', '') for i in x])\n",
        "movies['cast'] = movies['cast'].apply(lambda x : [i.replace(' ', '') for i in x])\n",
        "movies['crew'] = movies['crew'].apply(lambda x : [i.replace(' ', '') for i in x])"
      ]
    },
    {
      "cell_type": "code",
      "execution_count": null,
      "id": "f8161126",
      "metadata": {
        "id": "f8161126",
        "outputId": "2f0ca66d-a95d-48d6-e665-86a343b95352"
      },
      "outputs": [
        {
          "data": {
            "text/html": [
              "<div>\n",
              "<style scoped>\n",
              "    .dataframe tbody tr th:only-of-type {\n",
              "        vertical-align: middle;\n",
              "    }\n",
              "\n",
              "    .dataframe tbody tr th {\n",
              "        vertical-align: top;\n",
              "    }\n",
              "\n",
              "    .dataframe thead th {\n",
              "        text-align: right;\n",
              "    }\n",
              "</style>\n",
              "<table border=\"1\" class=\"dataframe\">\n",
              "  <thead>\n",
              "    <tr style=\"text-align: right;\">\n",
              "      <th></th>\n",
              "      <th>movie_id</th>\n",
              "      <th>title</th>\n",
              "      <th>keywords</th>\n",
              "      <th>overview</th>\n",
              "      <th>genres</th>\n",
              "      <th>cast</th>\n",
              "      <th>crew</th>\n",
              "    </tr>\n",
              "  </thead>\n",
              "  <tbody>\n",
              "    <tr>\n",
              "      <th>0</th>\n",
              "      <td>19995</td>\n",
              "      <td>Avatar</td>\n",
              "      <td>[cultureclash, future, spacewar, spacecolony, ...</td>\n",
              "      <td>[In, the, 22nd, century,, a, paraplegic, Marin...</td>\n",
              "      <td>[Action, Adventure, Fantasy, ScienceFiction]</td>\n",
              "      <td>[SamWorthington, ZoeSaldana, SigourneyWeaver]</td>\n",
              "      <td>[JamesCameron]</td>\n",
              "    </tr>\n",
              "  </tbody>\n",
              "</table>\n",
              "</div>"
            ],
            "text/plain": [
              "   movie_id   title                                           keywords  \\\n",
              "0     19995  Avatar  [cultureclash, future, spacewar, spacecolony, ...   \n",
              "\n",
              "                                            overview  \\\n",
              "0  [In, the, 22nd, century,, a, paraplegic, Marin...   \n",
              "\n",
              "                                         genres  \\\n",
              "0  [Action, Adventure, Fantasy, ScienceFiction]   \n",
              "\n",
              "                                            cast            crew  \n",
              "0  [SamWorthington, ZoeSaldana, SigourneyWeaver]  [JamesCameron]  "
            ]
          },
          "execution_count": 25,
          "metadata": {},
          "output_type": "execute_result"
        }
      ],
      "source": [
        "movies.head(1)"
      ]
    },
    {
      "cell_type": "code",
      "execution_count": null,
      "id": "c0b88808",
      "metadata": {
        "id": "c0b88808"
      },
      "outputs": [],
      "source": [
        "movies['tags'] = movies['overview'] + movies['genres'] + movies['keywords'] + movies['cast'] + movies['crew']"
      ]
    },
    {
      "cell_type": "code",
      "execution_count": null,
      "id": "264b2fa7",
      "metadata": {
        "id": "264b2fa7",
        "outputId": "134157c7-03fa-45c4-de8c-7d029cae93bf"
      },
      "outputs": [
        {
          "data": {
            "text/plain": [
              "['In',\n",
              " 'the',\n",
              " '22nd',\n",
              " 'century,',\n",
              " 'a',\n",
              " 'paraplegic',\n",
              " 'Marine',\n",
              " 'is',\n",
              " 'dispatched',\n",
              " 'to',\n",
              " 'the',\n",
              " 'moon',\n",
              " 'Pandora',\n",
              " 'on',\n",
              " 'a',\n",
              " 'unique',\n",
              " 'mission,',\n",
              " 'but',\n",
              " 'becomes',\n",
              " 'torn',\n",
              " 'between',\n",
              " 'following',\n",
              " 'orders',\n",
              " 'and',\n",
              " 'protecting',\n",
              " 'an',\n",
              " 'alien',\n",
              " 'civilization.',\n",
              " 'Action',\n",
              " 'Adventure',\n",
              " 'Fantasy',\n",
              " 'ScienceFiction',\n",
              " 'cultureclash',\n",
              " 'future',\n",
              " 'spacewar',\n",
              " 'spacecolony',\n",
              " 'society',\n",
              " 'spacetravel',\n",
              " 'futuristic',\n",
              " 'romance',\n",
              " 'space',\n",
              " 'alien',\n",
              " 'tribe',\n",
              " 'alienplanet',\n",
              " 'cgi',\n",
              " 'marine',\n",
              " 'soldier',\n",
              " 'battle',\n",
              " 'loveaffair',\n",
              " 'antiwar',\n",
              " 'powerrelations',\n",
              " 'mindandsoul',\n",
              " '3d',\n",
              " 'SamWorthington',\n",
              " 'ZoeSaldana',\n",
              " 'SigourneyWeaver',\n",
              " 'JamesCameron']"
            ]
          },
          "execution_count": 27,
          "metadata": {},
          "output_type": "execute_result"
        }
      ],
      "source": [
        "movies['tags'][0]"
      ]
    },
    {
      "cell_type": "code",
      "execution_count": null,
      "id": "45ed8653",
      "metadata": {
        "id": "45ed8653"
      },
      "outputs": [],
      "source": [
        "new_movies = movies[['movie_id', 'title', 'tags']]"
      ]
    },
    {
      "cell_type": "code",
      "execution_count": null,
      "id": "b6b4a7ff",
      "metadata": {
        "id": "b6b4a7ff",
        "outputId": "3438a9bb-51d1-44dc-8ead-e7682f83b79b"
      },
      "outputs": [
        {
          "data": {
            "text/html": [
              "<div>\n",
              "<style scoped>\n",
              "    .dataframe tbody tr th:only-of-type {\n",
              "        vertical-align: middle;\n",
              "    }\n",
              "\n",
              "    .dataframe tbody tr th {\n",
              "        vertical-align: top;\n",
              "    }\n",
              "\n",
              "    .dataframe thead th {\n",
              "        text-align: right;\n",
              "    }\n",
              "</style>\n",
              "<table border=\"1\" class=\"dataframe\">\n",
              "  <thead>\n",
              "    <tr style=\"text-align: right;\">\n",
              "      <th></th>\n",
              "      <th>movie_id</th>\n",
              "      <th>title</th>\n",
              "      <th>tags</th>\n",
              "    </tr>\n",
              "  </thead>\n",
              "  <tbody>\n",
              "    <tr>\n",
              "      <th>0</th>\n",
              "      <td>19995</td>\n",
              "      <td>Avatar</td>\n",
              "      <td>[In, the, 22nd, century,, a, paraplegic, Marin...</td>\n",
              "    </tr>\n",
              "  </tbody>\n",
              "</table>\n",
              "</div>"
            ],
            "text/plain": [
              "   movie_id   title                                               tags\n",
              "0     19995  Avatar  [In, the, 22nd, century,, a, paraplegic, Marin..."
            ]
          },
          "execution_count": 29,
          "metadata": {},
          "output_type": "execute_result"
        }
      ],
      "source": [
        "new_movies.head(1)"
      ]
    },
    {
      "cell_type": "code",
      "execution_count": null,
      "id": "c3724e82",
      "metadata": {
        "id": "c3724e82",
        "outputId": "3d4c6f58-767d-42ba-f570-3173517b277d"
      },
      "outputs": [
        {
          "name": "stderr",
          "output_type": "stream",
          "text": [
            "C:\\Users\\sg\\AppData\\Local\\Temp\\ipykernel_5576\\2092922764.py:1: SettingWithCopyWarning: \n",
            "A value is trying to be set on a copy of a slice from a DataFrame.\n",
            "Try using .loc[row_indexer,col_indexer] = value instead\n",
            "\n",
            "See the caveats in the documentation: https://pandas.pydata.org/pandas-docs/stable/user_guide/indexing.html#returning-a-view-versus-a-copy\n",
            "  new_movies['tags'] = new_movies['tags'].apply(lambda x : str(x).lower())\n"
          ]
        }
      ],
      "source": [
        "new_movies['tags'] = new_movies['tags'].apply(lambda x : str(x).lower())"
      ]
    },
    {
      "cell_type": "code",
      "execution_count": null,
      "id": "e7615038",
      "metadata": {
        "id": "e7615038",
        "outputId": "ecb59933-86a9-4fed-878e-09b175ae4554"
      },
      "outputs": [
        {
          "data": {
            "text/plain": [
              "\"['in', 'the', '22nd', 'century,', 'a', 'paraplegic', 'marine', 'is', 'dispatched', 'to', 'the', 'moon', 'pandora', 'on', 'a', 'unique', 'mission,', 'but', 'becomes', 'torn', 'between', 'following', 'orders', 'and', 'protecting', 'an', 'alien', 'civilization.', 'action', 'adventure', 'fantasy', 'sciencefiction', 'cultureclash', 'future', 'spacewar', 'spacecolony', 'society', 'spacetravel', 'futuristic', 'romance', 'space', 'alien', 'tribe', 'alienplanet', 'cgi', 'marine', 'soldier', 'battle', 'loveaffair', 'antiwar', 'powerrelations', 'mindandsoul', '3d', 'samworthington', 'zoesaldana', 'sigourneyweaver', 'jamescameron']\""
            ]
          },
          "execution_count": 31,
          "metadata": {},
          "output_type": "execute_result"
        }
      ],
      "source": [
        "new_movies['tags'][0]"
      ]
    },
    {
      "cell_type": "code",
      "execution_count": null,
      "id": "fb4c7214",
      "metadata": {
        "id": "fb4c7214",
        "scrolled": true
      },
      "outputs": [],
      "source": [
        "import nltk"
      ]
    },
    {
      "cell_type": "code",
      "execution_count": null,
      "id": "cb3defd1",
      "metadata": {
        "id": "cb3defd1"
      },
      "outputs": [],
      "source": [
        "from nltk.stem import PorterStemmer\n",
        "ps = PorterStemmer()"
      ]
    },
    {
      "cell_type": "code",
      "execution_count": null,
      "id": "0e10a2ae",
      "metadata": {
        "id": "0e10a2ae"
      },
      "outputs": [],
      "source": [
        "def stem(text):\n",
        "    L = []\n",
        "    for i in text.split():\n",
        "        L.append(ps.stem(i))\n",
        "    return ' '.join(L)"
      ]
    },
    {
      "cell_type": "code",
      "execution_count": null,
      "id": "3a3c7945",
      "metadata": {
        "id": "3a3c7945",
        "outputId": "c94c5a0a-e439-4d67-d13b-fd27cfc41d7b"
      },
      "outputs": [
        {
          "data": {
            "text/plain": [
              "\"['in', 'the', '22nd', 'century,', 'a', 'paraplegic', 'marine', 'is', 'dispatched', 'to', 'the', 'moon', 'pandora', 'on', 'a', 'unique', 'mission,', 'but', 'becomes', 'torn', 'between', 'following', 'orders', 'and', 'protecting', 'an', 'alien', 'civilization.', 'action', 'adventure', 'fantasy', 'sciencefiction', 'cultureclash', 'future', 'spacewar', 'spacecolony', 'society', 'spacetravel', 'futuristic', 'romance', 'space', 'alien', 'tribe', 'alienplanet', 'cgi', 'marine', 'soldier', 'battle', 'loveaffair', 'antiwar', 'powerrelations', 'mindandsoul', '3d', 'samworthington', 'zoesaldana', 'sigourneyweaver', 'jamescameron']\""
            ]
          },
          "execution_count": 35,
          "metadata": {},
          "output_type": "execute_result"
        }
      ],
      "source": [
        "new_movies['tags'][0]"
      ]
    },
    {
      "cell_type": "code",
      "execution_count": null,
      "id": "2e36aec5",
      "metadata": {
        "id": "2e36aec5",
        "outputId": "2a365ac5-b5f8-4141-c75e-f219a69b797b"
      },
      "outputs": [
        {
          "data": {
            "text/plain": [
              "0       ['in', 'the', '22nd', 'century,', 'a', 'parapl...\n",
              "1       ['captain', 'barbossa,', 'long', 'believed', '...\n",
              "2       ['a', 'cryptic', 'message', 'from', 'bond’s', ...\n",
              "3       ['following', 'the', 'death', 'of', 'district'...\n",
              "4       ['john', 'carter', 'is', 'a', 'war-weary,', 'f...\n",
              "                              ...                        \n",
              "4804    ['el', 'mariachi', 'just', 'wants', 'to', 'pla...\n",
              "4805    ['a', 'newlywed', \"couple's\", 'honeymoon', 'is...\n",
              "4806    ['\"signed,', 'sealed,', 'delivered\"', 'introdu...\n",
              "4807    ['when', 'ambitious', 'new', 'york', 'attorney...\n",
              "4808    ['ever', 'since', 'the', 'second', 'grade', 'w...\n",
              "Name: tags, Length: 4809, dtype: object"
            ]
          },
          "execution_count": 36,
          "metadata": {},
          "output_type": "execute_result"
        }
      ],
      "source": [
        "new_movies['tags'].apply(stem)"
      ]
    },
    {
      "cell_type": "code",
      "execution_count": null,
      "id": "aa292890",
      "metadata": {
        "id": "aa292890",
        "outputId": "5a2c6812-e05b-43d7-ee75-9ae5ad0bee77"
      },
      "outputs": [
        {
          "data": {
            "text/plain": [
              "\"['in', 'the', '22nd', 'century,', 'a', 'paraplegic', 'marine', 'is', 'dispatched', 'to', 'the', 'moon', 'pandora', 'on', 'a', 'unique', 'mission,', 'but', 'becomes', 'torn', 'between', 'following', 'orders', 'and', 'protecting', 'an', 'alien', 'civilization.', 'action', 'adventure', 'fantasy', 'sciencefiction', 'cultureclash', 'future', 'spacewar', 'spacecolony', 'society', 'spacetravel', 'futuristic', 'romance', 'space', 'alien', 'tribe', 'alienplanet', 'cgi', 'marine', 'soldier', 'battle', 'loveaffair', 'antiwar', 'powerrelations', 'mindandsoul', '3d', 'samworthington', 'zoesaldana', 'sigourneyweaver', 'jamescameron']\""
            ]
          },
          "execution_count": 37,
          "metadata": {},
          "output_type": "execute_result"
        }
      ],
      "source": [
        "new_movies['tags'][0]"
      ]
    },
    {
      "cell_type": "code",
      "execution_count": null,
      "id": "1bff3ce5",
      "metadata": {
        "id": "1bff3ce5",
        "outputId": "e9a10b12-1d27-49a2-d6c6-f4371a740f7b"
      },
      "outputs": [
        {
          "data": {
            "text/plain": [
              "array([[0, 0, 0, ..., 0, 0, 0],\n",
              "       [0, 0, 0, ..., 0, 0, 0],\n",
              "       [0, 0, 0, ..., 0, 0, 0],\n",
              "       ...,\n",
              "       [0, 0, 0, ..., 0, 0, 0],\n",
              "       [0, 0, 0, ..., 0, 0, 0],\n",
              "       [0, 0, 0, ..., 0, 0, 0]], dtype=int64)"
            ]
          },
          "execution_count": 38,
          "metadata": {},
          "output_type": "execute_result"
        }
      ],
      "source": [
        "from sklearn.feature_extraction.text import CountVectorizer\n",
        "\n",
        "cv = CountVectorizer(max_features=4000, stop_words='english')\n",
        "cv.fit_transform(new_movies['tags']).toarray()"
      ]
    },
    {
      "cell_type": "code",
      "execution_count": null,
      "id": "732684ac",
      "metadata": {
        "id": "732684ac"
      },
      "outputs": [],
      "source": [
        "profiles = cv.fit_transform(new_movies['tags']).toarray()"
      ]
    },
    {
      "cell_type": "code",
      "execution_count": null,
      "id": "bb4b16e2",
      "metadata": {
        "id": "bb4b16e2",
        "outputId": "8b29fe94-a9db-4740-ed10-cb41cf1db6cd",
        "scrolled": true
      },
      "outputs": [
        {
          "data": {
            "text/plain": [
              "(4809, 4000)"
            ]
          },
          "execution_count": 40,
          "metadata": {},
          "output_type": "execute_result"
        }
      ],
      "source": [
        "profiles.shape"
      ]
    },
    {
      "cell_type": "code",
      "execution_count": null,
      "id": "b099584d",
      "metadata": {
        "id": "b099584d"
      },
      "outputs": [],
      "source": [
        "from sklearn.metrics.pairwise import cosine_similarity\n",
        "\n",
        "similarity = cosine_similarity(profiles)"
      ]
    },
    {
      "cell_type": "code",
      "execution_count": null,
      "id": "1bfa1516",
      "metadata": {
        "id": "1bfa1516",
        "outputId": "ebeffb4a-3015-4d3a-b918-26c3ae95c5cc",
        "scrolled": true
      },
      "outputs": [
        {
          "data": {
            "text/plain": [
              "array([1.        , 0.09393364, 0.06262243, ..., 0.02615329, 0.0285831 ,\n",
              "       0.        ])"
            ]
          },
          "execution_count": 42,
          "metadata": {},
          "output_type": "execute_result"
        }
      ],
      "source": [
        "similarity[0]"
      ]
    },
    {
      "cell_type": "code",
      "execution_count": null,
      "id": "ed65a6e8",
      "metadata": {
        "id": "ed65a6e8"
      },
      "outputs": [],
      "source": [
        "def recommend(movie):\n",
        "    index = np.where(new_movies['title'] == movie)[0][0]\n",
        "    similar_movies = sorted(enumerate(similarity[index]), key=lambda x: x[1], reverse=True)[1:4]\n",
        "\n",
        "    for i in similar_movies:\n",
        "        print(new_movies['title'][i[0]])"
      ]
    },
    {
      "cell_type": "code",
      "execution_count": null,
      "id": "21e3e300",
      "metadata": {
        "id": "21e3e300",
        "outputId": "7bea19be-5ea4-4e21-9487-eb08a5937f83",
        "scrolled": true
      },
      "outputs": [
        {
          "name": "stdout",
          "output_type": "stream",
          "text": [
            "Hercules\n",
            "Return of the Jedi\n",
            "Abandoned\n"
          ]
        }
      ],
      "source": [
        "recommend('Gladiator')"
      ]
    },
    {
      "cell_type": "code",
      "execution_count": null,
      "id": "8689379d",
      "metadata": {
        "id": "8689379d",
        "outputId": "98b440c8-b78a-46b6-87fa-b2cce34b88bd"
      },
      "outputs": [
        {
          "name": "stdout",
          "output_type": "stream",
          "text": [
            "Alien\n",
            "Alien³\n",
            "Alien: Resurrection\n"
          ]
        }
      ],
      "source": [
        "recommend('Aliens')"
      ]
    },
    {
      "cell_type": "markdown",
      "id": "HhkdFKqn1Sph",
      "metadata": {
        "id": "HhkdFKqn1Sph"
      },
      "source": [
        "# **Content-Based Recommendations**"
      ]
    },
    {
      "cell_type": "code",
      "execution_count": null,
      "id": "Svh8vk5DebbD",
      "metadata": {
        "colab": {
          "base_uri": "https://localhost:8080/"
        },
        "id": "Svh8vk5DebbD",
        "outputId": "f9098894-dd24-49af-bb70-05620590c71c"
      },
      "outputs": [
        {
          "name": "stderr",
          "output_type": "stream",
          "text": [
            "C:\\Users\\sg\\AppData\\Local\\Temp\\ipykernel_5576\\3719549035.py:49: SettingWithCopyWarning: \n",
            "A value is trying to be set on a copy of a slice from a DataFrame.\n",
            "Try using .loc[row_indexer,col_indexer] = value instead\n",
            "\n",
            "See the caveats in the documentation: https://pandas.pydata.org/pandas-docs/stable/user_guide/indexing.html#returning-a-view-versus-a-copy\n",
            "  new_movies['tags'] = new_movies['tags'].apply(lambda x: ' '.join(x).lower())\n"
          ]
        },
        {
          "name": "stdout",
          "output_type": "stream",
          "text": [
            "\n",
            "Content-Based Recommendations for 'Gladiator':\n",
            "\n",
            "['1982', 'A Christmas Carol', 'Highlander']\n",
            "\n",
            "Content-Based Recommendations for 'Aliens':\n",
            "\n",
            "['Alien', 'Alien³', 'Star Trek: Insurrection']\n"
          ]
        }
      ],
      "source": [
        "import pandas as pd\n",
        "import numpy as np\n",
        "from sklearn.feature_extraction.text import CountVectorizer\n",
        "from sklearn.metrics.pairwise import cosine_similarity\n",
        "import ast\n",
        "from nltk.stem import PorterStemmer\n",
        "\n",
        "movies = pd.read_csv('tmdb_5000_movies.csv')\n",
        "credits = pd.read_csv('tmdb_5000_credits.csv')\n",
        "\n",
        "movies = movies.merge(credits, on='title', how='inner')\n",
        "movies = movies[['movie_id', 'title', 'keywords', 'overview', 'genres', 'cast', 'crew']]\n",
        "\n",
        "def get_list_from_json(column):\n",
        "    def parse_json(x):\n",
        "        try:\n",
        "            return [i['name'] for i in ast.literal_eval(x)]\n",
        "        except:\n",
        "            return []\n",
        "    return movies[column].apply(parse_json)\n",
        "\n",
        "def get_top_3_cast(x):\n",
        "    try:\n",
        "        return [i['name'] for i in ast.literal_eval(x)[:3]]\n",
        "    except:\n",
        "        return []\n",
        "\n",
        "def get_director(x):\n",
        "    try:\n",
        "        for i in ast.literal_eval(x):\n",
        "            if i['job'] == 'Director':\n",
        "                return [i['name']]\n",
        "        return []\n",
        "    except:\n",
        "        return []\n",
        "\n",
        "movies['genres'] = get_list_from_json('genres')\n",
        "movies['keywords'] = get_list_from_json('keywords')\n",
        "movies['cast'] = movies['cast'].apply(get_top_3_cast)\n",
        "movies['crew'] = movies['crew'].apply(get_director)\n",
        "\n",
        "movies['overview'] = movies['overview'].apply(lambda x: str(x).split())\n",
        "\n",
        "for column in ['genres', 'keywords', 'cast', 'crew']:\n",
        "    movies[column] = movies[column].apply(lambda x: [i.replace(' ', '').lower() for i in x])\n",
        "\n",
        "movies['tags'] = movies['overview'] + movies['genres'] + movies['keywords'] + movies['cast'] + movies['crew']\n",
        "new_movies = movies[['movie_id', 'title', 'tags']]\n",
        "new_movies['tags'] = new_movies['tags'].apply(lambda x: ' '.join(x).lower())\n",
        "\n",
        "ps = PorterStemmer()\n",
        "new_movies.loc[:, 'tags'] = new_movies['tags'].apply(lambda x: ' '.join([ps.stem(word) for word in x.split()]))\n",
        "\n",
        "cv = CountVectorizer(max_features=4000, stop_words='english')\n",
        "profiles = cv.fit_transform(new_movies['tags']).toarray()\n",
        "\n",
        "similarity = cosine_similarity(profiles)\n",
        "\n",
        "def recommend_content_based(movie):\n",
        "    index = np.where(new_movies['title'] == movie)[0][0]\n",
        "    similar_movies = sorted(enumerate(similarity[index]), key=lambda x: x[1], reverse=True)[1:4]\n",
        "    recommended_movies = [new_movies['title'][i[0]] for i in similar_movies]\n",
        "    return recommended_movies\n",
        "\n",
        "print(\"\\nContent-Based Recommendations for 'Gladiator':\\n\")\n",
        "print(recommend_content_based('Gladiator'))\n",
        "\n",
        "print(\"\\nContent-Based Recommendations for 'Aliens':\\n\")\n",
        "print(recommend_content_based('Aliens'))"
      ]
    },
    {
      "cell_type": "markdown",
      "id": "hjTzDoe40_Ee",
      "metadata": {
        "id": "hjTzDoe40_Ee"
      },
      "source": [
        "# **Collaborative Filtering**"
      ]
    },
    {
      "cell_type": "code",
      "execution_count": null,
      "id": "46pt8Znmco-O",
      "metadata": {
        "colab": {
          "base_uri": "https://localhost:8080/"
        },
        "id": "46pt8Znmco-O",
        "outputId": "4b78a0ba-750b-430a-a05a-4fe51f9892dc"
      },
      "outputs": [
        {
          "name": "stdout",
          "output_type": "stream",
          "text": [
            "Sample of loaded movies dataframe:\n",
            "   movie_id                                     title  \\\n",
            "0     19995                                    Avatar   \n",
            "1       285  Pirates of the Caribbean: At World's End   \n",
            "2    206647                                   Spectre   \n",
            "3     49026                     The Dark Knight Rises   \n",
            "4     49529                               John Carter   \n",
            "\n",
            "                                            keywords  \\\n",
            "0  [{\"id\": 1463, \"name\": \"culture clash\"}, {\"id\":...   \n",
            "1  [{\"id\": 270, \"name\": \"ocean\"}, {\"id\": 726, \"na...   \n",
            "2  [{\"id\": 470, \"name\": \"spy\"}, {\"id\": 818, \"name...   \n",
            "3  [{\"id\": 849, \"name\": \"dc comics\"}, {\"id\": 853,...   \n",
            "4  [{\"id\": 818, \"name\": \"based on novel\"}, {\"id\":...   \n",
            "\n",
            "                                            overview  \\\n",
            "0  In the 22nd century, a paraplegic Marine is di...   \n",
            "1  Captain Barbossa, long believed to be dead, ha...   \n",
            "2  A cryptic message from Bond’s past sends him o...   \n",
            "3  Following the death of District Attorney Harve...   \n",
            "4  John Carter is a war-weary, former military ca...   \n",
            "\n",
            "                                              genres  \\\n",
            "0  [{\"id\": 28, \"name\": \"Action\"}, {\"id\": 12, \"nam...   \n",
            "1  [{\"id\": 12, \"name\": \"Adventure\"}, {\"id\": 14, \"...   \n",
            "2  [{\"id\": 28, \"name\": \"Action\"}, {\"id\": 12, \"nam...   \n",
            "3  [{\"id\": 28, \"name\": \"Action\"}, {\"id\": 80, \"nam...   \n",
            "4  [{\"id\": 28, \"name\": \"Action\"}, {\"id\": 12, \"nam...   \n",
            "\n",
            "                                                cast  \\\n",
            "0  [{\"cast_id\": 242, \"character\": \"Jake Sully\", \"...   \n",
            "1  [{\"cast_id\": 4, \"character\": \"Captain Jack Spa...   \n",
            "2  [{\"cast_id\": 1, \"character\": \"James Bond\", \"cr...   \n",
            "3  [{\"cast_id\": 2, \"character\": \"Bruce Wayne / Ba...   \n",
            "4  [{\"cast_id\": 5, \"character\": \"John Carter\", \"c...   \n",
            "\n",
            "                                                crew  \n",
            "0  [{\"credit_id\": \"52fe48009251416c750aca23\", \"de...  \n",
            "1  [{\"credit_id\": \"52fe4232c3a36847f800b579\", \"de...  \n",
            "2  [{\"credit_id\": \"54805967c3a36829b5002c41\", \"de...  \n",
            "3  [{\"credit_id\": \"52fe4781c3a36847f81398c3\", \"de...  \n",
            "4  [{\"credit_id\": \"52fe479ac3a36847f813eaa3\", \"de...  \n",
            "Collaborative Filtering Recommendations for User 1:\n",
            "User Interactions:\n",
            "movie_id\n",
            "1    1\n",
            "2    1\n",
            "3    1\n",
            "4    0\n",
            "Name: 1, dtype: int64\n",
            "Weighted Sum:\n",
            "movie_id\n",
            "1    2.074915\n",
            "2    1.816497\n",
            "3    2.483163\n",
            "4    1.074915\n",
            "dtype: float64\n",
            "Similarity Sum:\n",
            "user_id\n",
            "4    0.666667\n",
            "4    0.666667\n",
            "4    0.666667\n",
            "4    0.666667\n",
            "Name: 1, dtype: float64\n",
            "Predicted Scores:\n",
            "1         NaN\n",
            "2         NaN\n",
            "3         NaN\n",
            "4    1.612372\n",
            "4    1.612372\n",
            "4    1.612372\n",
            "4    1.612372\n",
            "dtype: float64\n",
            "Predicted Scores after excluding interactions:\n",
            "Series([], dtype: float64)\n",
            "[]\n",
            "Collaborative Filtering Recommendations for User 2:\n",
            "User Interactions:\n",
            "movie_id\n",
            "1    1\n",
            "2    0\n",
            "3    0\n",
            "4    1\n",
            "Name: 2, dtype: int64\n",
            "Weighted Sum:\n",
            "movie_id\n",
            "1    2.224745\n",
            "2    0.408248\n",
            "3    1.224745\n",
            "4    1.816497\n",
            "dtype: float64\n",
            "Similarity Sum:\n",
            "user_id\n",
            "4    0.816497\n",
            "4    0.816497\n",
            "4    0.816497\n",
            "4    0.816497\n",
            "Name: 2, dtype: float64\n",
            "Predicted Scores:\n",
            "1         NaN\n",
            "2         NaN\n",
            "3         NaN\n",
            "4    2.224745\n",
            "4    2.224745\n",
            "4    2.224745\n",
            "4    2.224745\n",
            "dtype: float64\n",
            "Predicted Scores after excluding interactions:\n",
            "Series([], dtype: float64)\n",
            "[]\n",
            "Collaborative Filtering Recommendations for User 3:\n",
            "User Interactions:\n",
            "movie_id\n",
            "1    0\n",
            "2    1\n",
            "3    1\n",
            "4    0\n",
            "Name: 3, dtype: int64\n",
            "Weighted Sum:\n",
            "movie_id\n",
            "1    1.224745\n",
            "2    1.816497\n",
            "3    2.224745\n",
            "4    0.408248\n",
            "dtype: float64\n",
            "Similarity Sum:\n",
            "user_id\n",
            "4    0.408248\n",
            "4    0.408248\n",
            "4    0.408248\n",
            "4    0.408248\n",
            "Name: 3, dtype: float64\n",
            "Predicted Scores:\n",
            "1    NaN\n",
            "2    NaN\n",
            "3    NaN\n",
            "4    1.0\n",
            "4    1.0\n",
            "4    1.0\n",
            "4    1.0\n",
            "dtype: float64\n",
            "Predicted Scores after excluding interactions:\n",
            "Series([], dtype: float64)\n",
            "[]\n",
            "Collaborative Filtering Recommendations for User 4:\n",
            "User Interactions:\n",
            "movie_id\n",
            "1    1\n",
            "2    0\n",
            "3    1\n",
            "4    1\n",
            "Name: 4, dtype: int64\n",
            "Weighted Sum:\n",
            "movie_id\n",
            "1    2.483163\n",
            "2    1.074915\n",
            "3    2.074915\n",
            "4    1.816497\n",
            "dtype: float64\n",
            "Similarity Sum:\n",
            "user_id\n",
            "4    1.0\n",
            "4    1.0\n",
            "4    1.0\n",
            "4    1.0\n",
            "Name: 4, dtype: float64\n",
            "Predicted Scores:\n",
            "1         NaN\n",
            "2         NaN\n",
            "3         NaN\n",
            "4    1.816497\n",
            "4    1.816497\n",
            "4    1.816497\n",
            "4    1.816497\n",
            "dtype: float64\n",
            "Predicted Scores after excluding interactions:\n",
            "Series([], dtype: float64)\n",
            "[]\n"
          ]
        }
      ],
      "source": [
        "import pandas as pd\n",
        "import numpy as np\n",
        "from sklearn.metrics.pairwise import cosine_similarity\n",
        "\n",
        "interaction_data = {\n",
        "    'user_id': [1, 1, 1, 2, 2, 3, 3, 4, 4, 4],\n",
        "    'movie_id': [1, 2, 3, 1, 4, 2, 3, 1, 3, 4]\n",
        "}\n",
        "\n",
        "interactions = pd.DataFrame(interaction_data)\n",
        "\n",
        "user_movie_matrix = interactions.pivot_table(index='user_id', columns='movie_id', aggfunc='size', fill_value=0)\n",
        "\n",
        "user_similarity = cosine_similarity(user_movie_matrix)\n",
        "user_similarity_df = pd.DataFrame(user_similarity, index=user_movie_matrix.index, columns=user_movie_matrix.index)\n",
        "\n",
        "def recommend_collaborative(user_id, num_recommendations=5):\n",
        "    sim_scores = user_similarity_df[user_id]\n",
        "    user_interactions = user_movie_matrix.loc[user_id]\n",
        "\n",
        "    print(\"User Interactions:\")\n",
        "    print(user_interactions)\n",
        "\n",
        "    weighted_sum = user_movie_matrix.T.dot(sim_scores)\n",
        "\n",
        "    print(\"Weighted Sum:\")\n",
        "    print(weighted_sum)\n",
        "\n",
        "    sim_sum = sim_scores[user_movie_matrix.notna().sum(axis=1)]\n",
        "    sim_sum[sim_sum == 0] = 1e-9\n",
        "\n",
        "    print(\"Similarity Sum:\")\n",
        "    print(sim_sum)\n",
        "\n",
        "    pred_scores = weighted_sum / sim_sum\n",
        "\n",
        "    print(\"Predicted Scores:\")\n",
        "    print(pred_scores)\n",
        "\n",
        "    pred_scores = pred_scores.drop(user_interactions.index, errors='ignore')\n",
        "\n",
        "    print(\"Predicted Scores after excluding interactions:\")\n",
        "    print(pred_scores)\n",
        "\n",
        "    top_movies = pred_scores.nlargest(num_recommendations)\n",
        "    movie_indices = top_movies.index\n",
        "    recommended_movies = movies[movies['movie_id'].isin(movie_indices)]['title'].values\n",
        "\n",
        "    return recommended_movies\n",
        "\n",
        "movies = pd.read_csv('tmdb_5000_movies.csv')\n",
        "credits = pd.read_csv('tmdb_5000_credits.csv')\n",
        "movies = movies.merge(credits, on='title', how='inner')\n",
        "movies = movies[['movie_id', 'title', 'keywords', 'overview', 'genres', 'cast', 'crew']]\n",
        "\n",
        "print(\"Sample of loaded movies dataframe:\")\n",
        "print(movies.head())\n",
        "\n",
        "print(\"Collaborative Filtering Recommendations for User 1:\")\n",
        "print(recommend_collaborative(1))\n",
        "\n",
        "print(\"Collaborative Filtering Recommendations for User 2:\")\n",
        "print(recommend_collaborative(2))\n",
        "\n",
        "print(\"Collaborative Filtering Recommendations for User 3:\")\n",
        "print(recommend_collaborative(3))\n",
        "\n",
        "print(\"Collaborative Filtering Recommendations for User 4:\")\n",
        "print(recommend_collaborative(4))\n"
      ]
    }
  ],
  "metadata": {
    "colab": {
      "provenance": []
    },
    "kernelspec": {
      "display_name": "Python 3 (ipykernel)",
      "language": "python",
      "name": "python3"
    },
    "language_info": {
      "codemirror_mode": {
        "name": "ipython",
        "version": 3
      },
      "file_extension": ".py",
      "mimetype": "text/x-python",
      "name": "python",
      "nbconvert_exporter": "python",
      "pygments_lexer": "ipython3",
      "version": "3.11.7"
    }
  },
  "nbformat": 4,
  "nbformat_minor": 5
}